{
 "cells": [
  {
   "cell_type": "markdown",
   "metadata": {},
   "source": [
    "<p style=\"text-align:center\">\n",
    "    <a href=\"https://skills.network/?utm_medium=Exinfluencer&utm_source=Exinfluencer&utm_content=000026UJ&utm_term=10006555&utm_id=NA-SkillsNetwork-Channel-SkillsNetworkCoursesIBMDS0321ENSkillsNetwork26802033-2022-01-01\" target=\"_blank\">\n",
    "    <img src=\"https://cf-courses-data.s3.us.cloud-object-storage.appdomain.cloud/assets/logos/SN_web_lightmode.png\" width=\"200\" alt=\"Skills Network Logo\"  />\n",
    "    </a>\n",
    "</p>\n",
    "\n",
    "<h1 align=center><font size = 5>Assignment: SQL Notebook for Peer Assignment</font></h1>\n",
    "\n",
    "Estimated time needed: **60** minutes.\n",
    "\n",
    "## Introduction\n",
    "\n",
    "Using this Python notebook you will:\n",
    "\n",
    "1.  Understand the Spacex DataSet\n",
    "2.  Load the dataset  into the corresponding table in a Db2 database\n",
    "3.  Execute SQL queries to answer assignment questions\n"
   ]
  },
  {
   "cell_type": "markdown",
   "metadata": {},
   "source": [
    "## Overview of the DataSet\n",
    "\n",
    "SpaceX has gained worldwide attention for a series of historic milestones.\n",
    "\n",
    "It is the only private company ever to return a spacecraft from low-earth orbit, which it first accomplished in December 2010.\n",
    "SpaceX advertises Falcon 9 rocket launches on its website with a cost of 62 million dollars wheras other providers cost upward of 165 million dollars each, much of the savings is because Space X can reuse the first stage.\n",
    "\n",
    "Therefore if we can determine if the first stage will land, we can determine the cost of a launch.\n",
    "\n",
    "This information can be used if an alternate company wants to bid against SpaceX for a rocket launch.\n",
    "\n",
    "This dataset includes a record for each payload carried during a SpaceX mission into outer space.\n"
   ]
  },
  {
   "cell_type": "markdown",
   "metadata": {},
   "source": [
    "### Download the datasets\n",
    "\n",
    "This assignment requires you to load the spacex dataset.\n",
    "\n",
    "In many cases the dataset to be analyzed is available as a .CSV (comma separated values) file, perhaps on the internet. Click on the link below to download and save the dataset (.CSV file):\n",
    "\n",
    "<a href=\"https://cf-courses-data.s3.us.cloud-object-storage.appdomain.cloud/IBM-DS0321EN-SkillsNetwork/labs/module_2/data/Spacex.csv?utm_medium=Exinfluencer&utm_source=Exinfluencer&utm_content=000026UJ&utm_term=10006555&utm_id=NA-SkillsNetwork-Channel-SkillsNetworkCoursesIBMDS0321ENSkillsNetwork26802033-2022-01-01\" target=\"_blank\">Spacex DataSet</a>\n"
   ]
  },
  {
   "cell_type": "markdown",
   "metadata": {},
   "source": [
    "**Navigate to the Go to UI screen**\n",
    "\n",
    "*   Refer to this insruction in this <a href=\"https://cf-courses-data.s3.us.cloud-object-storage.appdomain.cloud/IBMDeveloperSkillsNetwork-DB0201EN-SkillsNetwork/labs/Labs_Coursera_V5/labs/Lab%20-%20Sign%20up%20for%20IBM%20Cloud%20-%20Create%20Db2%20service%20instance%20-%20Get%20started%20with%20the%20Db2%20console/instructional-labs.md.html?utm_medium=Exinfluencer&utm_source=Exinfluencer&utm_content=000026UJ&utm_term=10006555&utm_id=NA-SkillsNetwork-Channel-SkillsNetworkCoursesIBMDS0321ENSkillsNetwork26802033-2022-01-01\">link</a> for viewing  the   Go to UI screen.\n",
    "\n",
    "*   Later click on **Data link(below SQL)**  in the Go to UI screen  and click on **Load Data** tab.\n",
    "\n",
    "*   Later browse for the downloaded spacex file.\n",
    "\n",
    "<img src=\"https://cf-courses-data.s3.us.cloud-object-storage.appdomain.cloud/IBM-DS0321EN-SkillsNetwork/labs/module_2/images/browsefile.png\" width=\"800\"/>\n",
    "\n",
    "*   Once done select the schema andload the file.\n",
    "\n",
    " <img src=\"https://cf-courses-data.s3.us.cloud-object-storage.appdomain.cloud/IBM-DS0321EN-SkillsNetwork/labs/module_2/images/spacexload3.png\" width=\"800\"/>\n"
   ]
  },
  {
   "cell_type": "code",
   "execution_count": 1,
   "metadata": {
    "collapsed": true,
    "jupyter": {
     "outputs_hidden": true
    },
    "tags": []
   },
   "outputs": [
    {
     "name": "stdout",
     "output_type": "stream",
     "text": [
      "Collecting sqlalchemy==1.3.9\n",
      "  Downloading SQLAlchemy-1.3.9.tar.gz (6.0 MB)\n",
      "     ---------------------------------------- 6.0/6.0 MB 797.6 kB/s eta 0:00:00\n",
      "  Preparing metadata (setup.py): started\n",
      "  Preparing metadata (setup.py): finished with status 'done'\n",
      "Building wheels for collected packages: sqlalchemy\n",
      "  Building wheel for sqlalchemy (setup.py): started\n",
      "  Building wheel for sqlalchemy (setup.py): finished with status 'done'\n",
      "  Created wheel for sqlalchemy: filename=SQLAlchemy-1.3.9-cp310-cp310-win_amd64.whl size=1142919 sha256=15c30fcd7cdd9fe7cd97f99112848b1829b72eac16cfd5319766b7352550c98f\n",
      "  Stored in directory: c:\\users\\infokom\\appdata\\local\\pip\\cache\\wheels\\66\\e3\\30\\28b647805efa547d8f190c0ea36dbce63a098cd732559acf2f\n",
      "Successfully built sqlalchemy\n",
      "Installing collected packages: sqlalchemy\n",
      "Successfully installed sqlalchemy-1.3.9\n",
      "Collecting ibm_db_sa\n",
      "  Downloading ibm_db_sa-0.3.8-py3-none-any.whl (30 kB)\n",
      "Collecting ibm-db>=2.0.0\n",
      "  Downloading ibm_db-3.1.4.tar.gz (1.4 MB)\n",
      "     ---------------------------------------- 1.4/1.4 MB 386.7 kB/s eta 0:00:00\n",
      "  Installing build dependencies: started\n",
      "  Installing build dependencies: finished with status 'done'\n",
      "  Getting requirements to build wheel: started\n",
      "  Getting requirements to build wheel: finished with status 'done'\n",
      "  Installing backend dependencies: started\n",
      "  Installing backend dependencies: finished with status 'done'\n",
      "  Preparing metadata (pyproject.toml): started\n",
      "  Preparing metadata (pyproject.toml): finished with status 'done'\n",
      "Requirement already satisfied: sqlalchemy>=0.7.3 in c:\\users\\infokom\\miniconda3\\lib\\site-packages (from ibm_db_sa) (1.3.9)\n",
      "Building wheels for collected packages: ibm-db\n",
      "  Building wheel for ibm-db (pyproject.toml): started\n",
      "  Building wheel for ibm-db (pyproject.toml): finished with status 'done'\n",
      "  Created wheel for ibm-db: filename=ibm_db-3.1.4-py3-none-any.whl size=27750140 sha256=888ce6e40a0ccf2d47008e6f2c614d6f07574f9739f47937bcf513e651a73238\n",
      "  Stored in directory: c:\\users\\infokom\\appdata\\local\\pip\\cache\\wheels\\4a\\12\\8c\\4fdc8da3cd41ace7102a244c65ffb64e9a5e258c116c2a1c50\n",
      "Successfully built ibm-db\n",
      "Installing collected packages: ibm-db, ibm_db_sa\n",
      "Successfully installed ibm-db-3.1.4 ibm_db_sa-0.3.8\n",
      "Collecting ipython-sql\n",
      "  Downloading ipython_sql-0.4.1-py3-none-any.whl (21 kB)\n",
      "Requirement already satisfied: ipython>=1.0 in c:\\users\\infokom\\miniconda3\\lib\\site-packages (from ipython-sql) (8.8.0)\n",
      "Requirement already satisfied: sqlalchemy>=0.6.7 in c:\\users\\infokom\\miniconda3\\lib\\site-packages (from ipython-sql) (1.3.9)\n",
      "Collecting sqlparse\n",
      "  Using cached sqlparse-0.4.3-py3-none-any.whl (42 kB)\n",
      "Requirement already satisfied: six in c:\\users\\infokom\\miniconda3\\lib\\site-packages (from ipython-sql) (1.16.0)\n",
      "Requirement already satisfied: ipython-genutils>=0.1.0 in c:\\users\\infokom\\miniconda3\\lib\\site-packages (from ipython-sql) (0.2.0)\n",
      "Collecting prettytable<1\n",
      "  Downloading prettytable-0.7.2.zip (28 kB)\n",
      "  Preparing metadata (setup.py): started\n",
      "  Preparing metadata (setup.py): finished with status 'done'\n",
      "Requirement already satisfied: prompt-toolkit<3.1.0,>=3.0.11 in c:\\users\\infokom\\miniconda3\\lib\\site-packages (from ipython>=1.0->ipython-sql) (3.0.36)\n",
      "Requirement already satisfied: stack-data in c:\\users\\infokom\\miniconda3\\lib\\site-packages (from ipython>=1.0->ipython-sql) (0.2.0)\n",
      "Requirement already satisfied: colorama in c:\\users\\infokom\\miniconda3\\lib\\site-packages (from ipython>=1.0->ipython-sql) (0.4.6)\n",
      "Requirement already satisfied: backcall in c:\\users\\infokom\\miniconda3\\lib\\site-packages (from ipython>=1.0->ipython-sql) (0.2.0)\n",
      "Requirement already satisfied: pygments>=2.4.0 in c:\\users\\infokom\\miniconda3\\lib\\site-packages (from ipython>=1.0->ipython-sql) (2.11.2)\n",
      "Requirement already satisfied: pickleshare in c:\\users\\infokom\\miniconda3\\lib\\site-packages (from ipython>=1.0->ipython-sql) (0.7.5)\n",
      "Requirement already satisfied: traitlets>=5 in c:\\users\\infokom\\miniconda3\\lib\\site-packages (from ipython>=1.0->ipython-sql) (5.7.1)\n",
      "Requirement already satisfied: matplotlib-inline in c:\\users\\infokom\\miniconda3\\lib\\site-packages (from ipython>=1.0->ipython-sql) (0.1.6)\n",
      "Requirement already satisfied: decorator in c:\\users\\infokom\\miniconda3\\lib\\site-packages (from ipython>=1.0->ipython-sql) (5.1.1)\n",
      "Requirement already satisfied: jedi>=0.16 in c:\\users\\infokom\\miniconda3\\lib\\site-packages (from ipython>=1.0->ipython-sql) (0.18.1)\n",
      "Requirement already satisfied: parso<0.9.0,>=0.8.0 in c:\\users\\infokom\\miniconda3\\lib\\site-packages (from jedi>=0.16->ipython>=1.0->ipython-sql) (0.8.3)\n",
      "Requirement already satisfied: wcwidth in c:\\users\\infokom\\miniconda3\\lib\\site-packages (from prompt-toolkit<3.1.0,>=3.0.11->ipython>=1.0->ipython-sql) (0.2.5)\n",
      "Requirement already satisfied: asttokens in c:\\users\\infokom\\miniconda3\\lib\\site-packages (from stack-data->ipython>=1.0->ipython-sql) (2.0.5)\n",
      "Requirement already satisfied: pure-eval in c:\\users\\infokom\\miniconda3\\lib\\site-packages (from stack-data->ipython>=1.0->ipython-sql) (0.2.2)\n",
      "Requirement already satisfied: executing in c:\\users\\infokom\\miniconda3\\lib\\site-packages (from stack-data->ipython>=1.0->ipython-sql) (0.8.3)\n",
      "Building wheels for collected packages: prettytable\n",
      "  Building wheel for prettytable (setup.py): started\n",
      "  Building wheel for prettytable (setup.py): finished with status 'done'\n",
      "  Created wheel for prettytable: filename=prettytable-0.7.2-py3-none-any.whl size=13695 sha256=f034c85217eb1c979d7943700c91e0a19a89c72f850b1eb5f03800e1257edc01\n",
      "  Stored in directory: c:\\users\\infokom\\appdata\\local\\pip\\cache\\wheels\\ec\\32\\b1\\b9dda552a609c834467b28a174fa60d2c102e17857ccafd95b\n",
      "Successfully built prettytable\n",
      "Installing collected packages: prettytable, sqlparse, ipython-sql\n",
      "Successfully installed ipython-sql-0.4.1 prettytable-0.7.2 sqlparse-0.4.3\n"
     ]
    }
   ],
   "source": [
    "!pip install sqlalchemy==1.3.9\n",
    "!pip install ibm_db_sa\n",
    "!pip install ipython-sql"
   ]
  },
  {
   "cell_type": "markdown",
   "metadata": {},
   "source": [
    "### Connect to the database\n",
    "\n",
    "Let us first load the SQL extension and establish a connection with the database\n"
   ]
  },
  {
   "cell_type": "code",
   "execution_count": 2,
   "metadata": {},
   "outputs": [],
   "source": [
    "%load_ext sql"
   ]
  },
  {
   "cell_type": "code",
   "execution_count": 4,
   "metadata": {},
   "outputs": [],
   "source": []
  },
  {
   "cell_type": "code",
   "execution_count": 20,
   "metadata": {},
   "outputs": [
    {
     "data": {
      "text/plain": [
       "101"
      ]
     },
     "execution_count": 20,
     "metadata": {},
     "output_type": "execute_result"
    }
   ],
   "source": [
    "df = pd.read_csv(\"Spacex.csv\")\n",
    "conn = sqlite3.connect(\"spacex.db\")\n",
    "df.to_sql(\"spacex\", conn, index=False)"
   ]
  },
  {
   "cell_type": "markdown",
   "metadata": {
    "jupyter": {
     "source_hidden": true
    },
    "tags": []
   },
   "source": [
    "**DB2 magic in case of old UI service credentials.**\n",
    "\n",
    "In the next cell enter your db2 connection string. Recall you created Service Credentials for your Db2 instance before. From the **uri** field of your Db2 service credentials copy everything after db2:// (except the double quote at the end) and paste it in the cell below after ibm_db_sa://\n",
    "\n",
    "<img src =\"https://cf-courses-data.s3.us.cloud-object-storage.appdomain.cloud/IBMDeveloperSkillsNetwork-DB0201EN-SkillsNetwork/labs/FinalModule_edX/images/URI.jpg\">\n",
    "\n",
    "in the following format\n",
    "\n",
    "**%sql ibm_db_sa://my-username:my-password\\@my-hostname:my-port/my-db-name**\n",
    "\n",
    "**DB2 magic in case of new UI service credentials.**\n",
    "\n",
    "<img src =\"https://cf-courses-data.s3.us.cloud-object-storage.appdomain.cloud/IBM-DS0321EN-SkillsNetwork/labs/module_2/images/servicecredentials.png\" width=600>  \n",
    "\n",
    "*   Use the following format.\n",
    "\n",
    "*   Add security=SSL at the end\n",
    "\n",
    "**%sql ibm_db_sa://my-username:my-password\\@my-hostname:my-port/my-db-name?security=SSL**\n"
   ]
  },
  {
   "cell_type": "code",
   "execution_count": null,
   "metadata": {},
   "outputs": [],
   "source": []
  },
  {
   "cell_type": "code",
   "execution_count": null,
   "metadata": {},
   "outputs": [],
   "source": []
  },
  {
   "cell_type": "code",
   "execution_count": 25,
   "metadata": {},
   "outputs": [],
   "source": [
    "# %sql ibm_db_sa://\n",
    "%sql sqlite:///spacex.db"
   ]
  },
  {
   "cell_type": "markdown",
   "metadata": {},
   "source": [
    "## Tasks\n",
    "\n",
    "Now write and execute SQL queries to solve the assignment tasks.\n",
    "\n",
    "### Task 1\n",
    "\n",
    "##### Display the names of the unique launch sites  in the space mission\n"
   ]
  },
  {
   "cell_type": "code",
   "execution_count": 29,
   "metadata": {},
   "outputs": [
    {
     "name": "stdout",
     "output_type": "stream",
     "text": [
      "   sqlite://\n",
      " * sqlite:///spacex.db\n",
      "Done.\n"
     ]
    },
    {
     "data": {
      "text/html": [
       "<table>\n",
       "    <tr>\n",
       "        <th>Launch_Site</th>\n",
       "    </tr>\n",
       "    <tr>\n",
       "        <td>CCAFS LC-40</td>\n",
       "    </tr>\n",
       "    <tr>\n",
       "        <td>VAFB SLC-4E</td>\n",
       "    </tr>\n",
       "    <tr>\n",
       "        <td>KSC LC-39A</td>\n",
       "    </tr>\n",
       "    <tr>\n",
       "        <td>CCAFS SLC-40</td>\n",
       "    </tr>\n",
       "</table>"
      ],
      "text/plain": [
       "[('CCAFS LC-40',), ('VAFB SLC-4E',), ('KSC LC-39A',), ('CCAFS SLC-40',)]"
      ]
     },
     "execution_count": 29,
     "metadata": {},
     "output_type": "execute_result"
    }
   ],
   "source": [
    "%%sql\n",
    "SELECT Distinct Launch_Site\n",
    "FROM spacex"
   ]
  },
  {
   "cell_type": "markdown",
   "metadata": {},
   "source": [
    "### Task 2\n",
    "\n",
    "##### Display 5 records where launch sites begin with the string 'CCA'\n"
   ]
  },
  {
   "cell_type": "code",
   "execution_count": 32,
   "metadata": {},
   "outputs": [
    {
     "name": "stdout",
     "output_type": "stream",
     "text": [
      "   sqlite://\n",
      " * sqlite:///spacex.db\n",
      "Done.\n"
     ]
    },
    {
     "data": {
      "text/html": [
       "<table>\n",
       "    <tr>\n",
       "        <th>Date</th>\n",
       "        <th>Time (UTC)</th>\n",
       "        <th>Booster_Version</th>\n",
       "        <th>Launch_Site</th>\n",
       "        <th>Payload</th>\n",
       "        <th>PAYLOAD_MASS__KG_</th>\n",
       "        <th>Orbit</th>\n",
       "        <th>Customer</th>\n",
       "        <th>Mission_Outcome</th>\n",
       "        <th>Landing _Outcome</th>\n",
       "    </tr>\n",
       "    <tr>\n",
       "        <td>04-06-2010</td>\n",
       "        <td>18:45:00</td>\n",
       "        <td>F9 v1.0  B0003</td>\n",
       "        <td>CCAFS LC-40</td>\n",
       "        <td>Dragon Spacecraft Qualification Unit</td>\n",
       "        <td>0</td>\n",
       "        <td>LEO</td>\n",
       "        <td>SpaceX</td>\n",
       "        <td>Success</td>\n",
       "        <td>Failure (parachute)</td>\n",
       "    </tr>\n",
       "    <tr>\n",
       "        <td>08-12-2010</td>\n",
       "        <td>15:43:00</td>\n",
       "        <td>F9 v1.0  B0004</td>\n",
       "        <td>CCAFS LC-40</td>\n",
       "        <td>Dragon demo flight C1, two CubeSats, barrel of Brouere cheese</td>\n",
       "        <td>0</td>\n",
       "        <td>LEO (ISS)</td>\n",
       "        <td>NASA (COTS) NRO</td>\n",
       "        <td>Success</td>\n",
       "        <td>Failure (parachute)</td>\n",
       "    </tr>\n",
       "    <tr>\n",
       "        <td>22-05-2012</td>\n",
       "        <td>07:44:00</td>\n",
       "        <td>F9 v1.0  B0005</td>\n",
       "        <td>CCAFS LC-40</td>\n",
       "        <td>Dragon demo flight C2</td>\n",
       "        <td>525</td>\n",
       "        <td>LEO (ISS)</td>\n",
       "        <td>NASA (COTS)</td>\n",
       "        <td>Success</td>\n",
       "        <td>No attempt</td>\n",
       "    </tr>\n",
       "    <tr>\n",
       "        <td>08-10-2012</td>\n",
       "        <td>00:35:00</td>\n",
       "        <td>F9 v1.0  B0006</td>\n",
       "        <td>CCAFS LC-40</td>\n",
       "        <td>SpaceX CRS-1</td>\n",
       "        <td>500</td>\n",
       "        <td>LEO (ISS)</td>\n",
       "        <td>NASA (CRS)</td>\n",
       "        <td>Success</td>\n",
       "        <td>No attempt</td>\n",
       "    </tr>\n",
       "    <tr>\n",
       "        <td>01-03-2013</td>\n",
       "        <td>15:10:00</td>\n",
       "        <td>F9 v1.0  B0007</td>\n",
       "        <td>CCAFS LC-40</td>\n",
       "        <td>SpaceX CRS-2</td>\n",
       "        <td>677</td>\n",
       "        <td>LEO (ISS)</td>\n",
       "        <td>NASA (CRS)</td>\n",
       "        <td>Success</td>\n",
       "        <td>No attempt</td>\n",
       "    </tr>\n",
       "</table>"
      ],
      "text/plain": [
       "[('04-06-2010', '18:45:00', 'F9 v1.0  B0003', 'CCAFS LC-40', 'Dragon Spacecraft Qualification Unit', 0, 'LEO', 'SpaceX', 'Success', 'Failure (parachute)'),\n",
       " ('08-12-2010', '15:43:00', 'F9 v1.0  B0004', 'CCAFS LC-40', 'Dragon demo flight C1, two CubeSats, barrel of Brouere cheese', 0, 'LEO (ISS)', 'NASA (COTS) NRO', 'Success', 'Failure (parachute)'),\n",
       " ('22-05-2012', '07:44:00', 'F9 v1.0  B0005', 'CCAFS LC-40', 'Dragon demo flight C2', 525, 'LEO (ISS)', 'NASA (COTS)', 'Success', 'No attempt'),\n",
       " ('08-10-2012', '00:35:00', 'F9 v1.0  B0006', 'CCAFS LC-40', 'SpaceX CRS-1', 500, 'LEO (ISS)', 'NASA (CRS)', 'Success', 'No attempt'),\n",
       " ('01-03-2013', '15:10:00', 'F9 v1.0  B0007', 'CCAFS LC-40', 'SpaceX CRS-2', 677, 'LEO (ISS)', 'NASA (CRS)', 'Success', 'No attempt')]"
      ]
     },
     "execution_count": 32,
     "metadata": {},
     "output_type": "execute_result"
    }
   ],
   "source": [
    "%%sql\n",
    "SELECT *\n",
    "FROM spacex\n",
    "WHERE Launch_Site LIKE 'CCA%'\n",
    "LIMIT 5"
   ]
  },
  {
   "cell_type": "markdown",
   "metadata": {},
   "source": [
    "### Task 3\n",
    "\n",
    "##### Display the total payload mass carried by boosters launched by NASA (CRS)\n"
   ]
  },
  {
   "cell_type": "code",
   "execution_count": 142,
   "metadata": {},
   "outputs": [
    {
     "name": "stdout",
     "output_type": "stream",
     "text": [
      "   sqlite://\n",
      " * sqlite:///spacex.db\n",
      "Done.\n"
     ]
    },
    {
     "data": {
      "text/html": [
       "<table>\n",
       "    <tr>\n",
       "        <th>Booster_Version</th>\n",
       "        <th>TotalPayload</th>\n",
       "    </tr>\n",
       "    <tr>\n",
       "        <td>F9 v1.0  B0006</td>\n",
       "        <td>500</td>\n",
       "    </tr>\n",
       "    <tr>\n",
       "        <td>F9 v1.0  B0007</td>\n",
       "        <td>677</td>\n",
       "    </tr>\n",
       "    <tr>\n",
       "        <td>F9 v1.1 B1015</td>\n",
       "        <td>1898</td>\n",
       "    </tr>\n",
       "    <tr>\n",
       "        <td>F9 v1.1 B1018</td>\n",
       "        <td>1952</td>\n",
       "    </tr>\n",
       "    <tr>\n",
       "        <td>F9 B5 B1059.2</td>\n",
       "        <td>1977</td>\n",
       "    </tr>\n",
       "    <tr>\n",
       "        <td>F9 FT  B1035.2</td>\n",
       "        <td>2205</td>\n",
       "    </tr>\n",
       "    <tr>\n",
       "        <td>F9 v1.1 B1010</td>\n",
       "        <td>2216</td>\n",
       "    </tr>\n",
       "    <tr>\n",
       "        <td>F9 FT B1025.1</td>\n",
       "        <td>2257</td>\n",
       "    </tr>\n",
       "    <tr>\n",
       "        <td>F9 B5 B1056.2 </td>\n",
       "        <td>2268</td>\n",
       "    </tr>\n",
       "    <tr>\n",
       "        <td>F9 v1.1</td>\n",
       "        <td>2296</td>\n",
       "    </tr>\n",
       "    <tr>\n",
       "        <td>F9 v1.1 B1012</td>\n",
       "        <td>2395</td>\n",
       "    </tr>\n",
       "    <tr>\n",
       "        <td>F9 FT B1031.1</td>\n",
       "        <td>2490</td>\n",
       "    </tr>\n",
       "    <tr>\n",
       "        <td>F9 B5B1056.1 </td>\n",
       "        <td>2495</td>\n",
       "    </tr>\n",
       "    <tr>\n",
       "        <td>F9 B5B1050</td>\n",
       "        <td>2500</td>\n",
       "    </tr>\n",
       "    <tr>\n",
       "        <td>F9 B4  B1039.2</td>\n",
       "        <td>2647</td>\n",
       "    </tr>\n",
       "    <tr>\n",
       "        <td>F9 B4 B1045.2</td>\n",
       "        <td>2697</td>\n",
       "    </tr>\n",
       "    <tr>\n",
       "        <td>F9 FT B1035.1</td>\n",
       "        <td>2708</td>\n",
       "    </tr>\n",
       "    <tr>\n",
       "        <td>F9 B5 B1058.4 </td>\n",
       "        <td>2972</td>\n",
       "    </tr>\n",
       "    <tr>\n",
       "        <td>F9 FT B1021.1</td>\n",
       "        <td>3136</td>\n",
       "    </tr>\n",
       "    <tr>\n",
       "        <td>F9 B4 B1039.1</td>\n",
       "        <td>3310</td>\n",
       "    </tr>\n",
       "</table>"
      ],
      "text/plain": [
       "[('F9 v1.0  B0006', 500),\n",
       " ('F9 v1.0  B0007', 677),\n",
       " ('F9 v1.1 B1015', 1898),\n",
       " ('F9 v1.1 B1018', 1952),\n",
       " ('F9 B5 B1059.2', 1977),\n",
       " ('F9 FT  B1035.2', 2205),\n",
       " ('F9 v1.1 B1010', 2216),\n",
       " ('F9 FT B1025.1', 2257),\n",
       " ('F9 B5 B1056.2 ', 2268),\n",
       " ('F9 v1.1', 2296),\n",
       " ('F9 v1.1 B1012', 2395),\n",
       " ('F9 FT B1031.1', 2490),\n",
       " ('F9 B5B1056.1 ', 2495),\n",
       " ('F9 B5B1050', 2500),\n",
       " ('F9 B4  B1039.2', 2647),\n",
       " ('F9 B4 B1045.2', 2697),\n",
       " ('F9 FT B1035.1', 2708),\n",
       " ('F9 B5 B1058.4 ', 2972),\n",
       " ('F9 FT B1021.1', 3136),\n",
       " ('F9 B4 B1039.1', 3310)]"
      ]
     },
     "execution_count": 142,
     "metadata": {},
     "output_type": "execute_result"
    }
   ],
   "source": [
    "%%sql\n",
    "SELECT Booster_Version, sum(PAYLOAD_MASS__KG_) as TotalPayload\n",
    "FROM spacex\n",
    "WHERE customer=\"NASA (CRS)\"\n",
    "Group By Booster_Version\n",
    "Order by sum(PAYLOAD_MASS__KG_)"
   ]
  },
  {
   "cell_type": "markdown",
   "metadata": {},
   "source": [
    "### Task 4\n",
    "\n",
    "##### Display average payload mass carried by booster version F9 v1.1\n"
   ]
  },
  {
   "cell_type": "code",
   "execution_count": 47,
   "metadata": {},
   "outputs": [
    {
     "name": "stdout",
     "output_type": "stream",
     "text": [
      "   sqlite://\n",
      " * sqlite:///spacex.db\n",
      "Done.\n"
     ]
    },
    {
     "data": {
      "text/html": [
       "<table>\n",
       "    <tr>\n",
       "        <th>Booster_Version</th>\n",
       "        <th>AvgPayload</th>\n",
       "    </tr>\n",
       "    <tr>\n",
       "        <td>F9 v1.1</td>\n",
       "        <td>2928.4</td>\n",
       "    </tr>\n",
       "</table>"
      ],
      "text/plain": [
       "[('F9 v1.1', 2928.4)]"
      ]
     },
     "execution_count": 47,
     "metadata": {},
     "output_type": "execute_result"
    }
   ],
   "source": [
    "%%sql\n",
    "SELECT Booster_Version, avg(PAYLOAD_MASS__KG_) as AvgPayload\n",
    "FROM spacex\n",
    "WHERE Booster_Version = \"F9 v1.1\""
   ]
  },
  {
   "cell_type": "code",
   "execution_count": 96,
   "metadata": {},
   "outputs": [
    {
     "name": "stdout",
     "output_type": "stream",
     "text": [
      "   sqlite://\n",
      " * sqlite:///spacex.db\n",
      "Done.\n"
     ]
    },
    {
     "data": {
      "text/html": [
       "<table>\n",
       "    <tr>\n",
       "        <th>Landing _Outcome</th>\n",
       "    </tr>\n",
       "    <tr>\n",
       "        <td>Failure (parachute)</td>\n",
       "    </tr>\n",
       "    <tr>\n",
       "        <td>No attempt</td>\n",
       "    </tr>\n",
       "    <tr>\n",
       "        <td>Uncontrolled (ocean)</td>\n",
       "    </tr>\n",
       "    <tr>\n",
       "        <td>Controlled (ocean)</td>\n",
       "    </tr>\n",
       "    <tr>\n",
       "        <td>Failure (drone ship)</td>\n",
       "    </tr>\n",
       "    <tr>\n",
       "        <td>Precluded (drone ship)</td>\n",
       "    </tr>\n",
       "    <tr>\n",
       "        <td>Success (ground pad)</td>\n",
       "    </tr>\n",
       "    <tr>\n",
       "        <td>Success (drone ship)</td>\n",
       "    </tr>\n",
       "    <tr>\n",
       "        <td>Success</td>\n",
       "    </tr>\n",
       "    <tr>\n",
       "        <td>Failure</td>\n",
       "    </tr>\n",
       "    <tr>\n",
       "        <td>No attempt </td>\n",
       "    </tr>\n",
       "</table>"
      ],
      "text/plain": [
       "[('Failure (parachute)',),\n",
       " ('No attempt',),\n",
       " ('Uncontrolled (ocean)',),\n",
       " ('Controlled (ocean)',),\n",
       " ('Failure (drone ship)',),\n",
       " ('Precluded (drone ship)',),\n",
       " ('Success (ground pad)',),\n",
       " ('Success (drone ship)',),\n",
       " ('Success',),\n",
       " ('Failure',),\n",
       " ('No attempt ',)]"
      ]
     },
     "execution_count": 96,
     "metadata": {},
     "output_type": "execute_result"
    }
   ],
   "source": [
    "%%sql\n",
    "SELECT Distinct \"Landing _Outcome\"\n",
    "FROM spacex\n"
   ]
  },
  {
   "cell_type": "markdown",
   "metadata": {},
   "source": [
    "### Task 5\n",
    "\n",
    "##### List the date when the first successful landing outcome in ground pad was acheived.\n",
    "\n",
    "*Hint:Use min function*\n"
   ]
  },
  {
   "cell_type": "code",
   "execution_count": 144,
   "metadata": {},
   "outputs": [
    {
     "name": "stdout",
     "output_type": "stream",
     "text": [
      "   sqlite://\n",
      " * sqlite:///spacex.db\n",
      "Done.\n"
     ]
    },
    {
     "data": {
      "text/html": [
       "<table>\n",
       "    <tr>\n",
       "        <th>Date</th>\n",
       "        <th>Landing _Outcome</th>\n",
       "    </tr>\n",
       "    <tr>\n",
       "        <td>08-01-2018</td>\n",
       "        <td>Success (ground pad)</td>\n",
       "    </tr>\n",
       "    <tr>\n",
       "        <td>15-12-2017</td>\n",
       "        <td>Success (ground pad)</td>\n",
       "    </tr>\n",
       "    <tr>\n",
       "        <td>07-09-2017</td>\n",
       "        <td>Success (ground pad)</td>\n",
       "    </tr>\n",
       "    <tr>\n",
       "        <td>14-08-2017</td>\n",
       "        <td>Success (ground pad)</td>\n",
       "    </tr>\n",
       "    <tr>\n",
       "        <td>03-06-2017</td>\n",
       "        <td>Success (ground pad)</td>\n",
       "    </tr>\n",
       "    <tr>\n",
       "        <td>01-05-2017</td>\n",
       "        <td>Success (ground pad)</td>\n",
       "    </tr>\n",
       "    <tr>\n",
       "        <td>19-02-2017</td>\n",
       "        <td>Success (ground pad)</td>\n",
       "    </tr>\n",
       "    <tr>\n",
       "        <td>18-07-2016</td>\n",
       "        <td>Success (ground pad)</td>\n",
       "    </tr>\n",
       "    <tr>\n",
       "        <td>22-12-2015</td>\n",
       "        <td>Success (ground pad)</td>\n",
       "    </tr>\n",
       "</table>"
      ],
      "text/plain": [
       "[('08-01-2018', 'Success (ground pad)'),\n",
       " ('15-12-2017', 'Success (ground pad)'),\n",
       " ('07-09-2017', 'Success (ground pad)'),\n",
       " ('14-08-2017', 'Success (ground pad)'),\n",
       " ('03-06-2017', 'Success (ground pad)'),\n",
       " ('01-05-2017', 'Success (ground pad)'),\n",
       " ('19-02-2017', 'Success (ground pad)'),\n",
       " ('18-07-2016', 'Success (ground pad)'),\n",
       " ('22-12-2015', 'Success (ground pad)')]"
      ]
     },
     "execution_count": 144,
     "metadata": {},
     "output_type": "execute_result"
    }
   ],
   "source": [
    "%%sql\n",
    "SELECT Date, \"Landing _Outcome\"\n",
    "FROM spacex\n",
    "WHERE \"Landing _Outcome\"=\"Success (ground pad)\"\n",
    "ORDER BY substr(Date,7)||substr(Date,4,2)||substr(Date,1,2) DESC\n"
   ]
  },
  {
   "cell_type": "markdown",
   "metadata": {},
   "source": [
    "### Task 6\n",
    "\n",
    "##### List the names of the boosters which have success in drone ship and have payload mass greater than 4000 but less than 6000\n"
   ]
  },
  {
   "cell_type": "code",
   "execution_count": 148,
   "metadata": {},
   "outputs": [
    {
     "name": "stdout",
     "output_type": "stream",
     "text": [
      "   sqlite://\n",
      " * sqlite:///spacex.db\n",
      "Done.\n"
     ]
    },
    {
     "data": {
      "text/html": [
       "<table>\n",
       "    <tr>\n",
       "        <th>Booster_Version</th>\n",
       "        <th>PAYLOAD_MASS__KG_</th>\n",
       "        <th>Orbit</th>\n",
       "    </tr>\n",
       "    <tr>\n",
       "        <td>F9 FT B1022</td>\n",
       "        <td>4696</td>\n",
       "        <td>GTO</td>\n",
       "    </tr>\n",
       "    <tr>\n",
       "        <td>F9 FT B1026</td>\n",
       "        <td>4600</td>\n",
       "        <td>GTO</td>\n",
       "    </tr>\n",
       "    <tr>\n",
       "        <td>F9 FT  B1021.2</td>\n",
       "        <td>5300</td>\n",
       "        <td>GTO</td>\n",
       "    </tr>\n",
       "    <tr>\n",
       "        <td>F9 FT  B1031.2</td>\n",
       "        <td>5200</td>\n",
       "        <td>GTO</td>\n",
       "    </tr>\n",
       "</table>"
      ],
      "text/plain": [
       "[('F9 FT B1022', 4696, 'GTO'),\n",
       " ('F9 FT B1026', 4600, 'GTO'),\n",
       " ('F9 FT  B1021.2', 5300, 'GTO'),\n",
       " ('F9 FT  B1031.2', 5200, 'GTO')]"
      ]
     },
     "execution_count": 148,
     "metadata": {},
     "output_type": "execute_result"
    }
   ],
   "source": [
    "%%sql\n",
    "SELECT Booster_Version, PAYLOAD_MASS__KG_, Orbit\n",
    "FROM spacex\n",
    "WHERE  \"Landing _Outcome\"=\"Success (drone ship)\" AND PAYLOAD_MASS__KG_ BETWEEN 4000 AND 6000"
   ]
  },
  {
   "cell_type": "markdown",
   "metadata": {},
   "source": [
    "### Task 7\n",
    "\n",
    "##### List the total number of successful and failure mission outcomes\n"
   ]
  },
  {
   "cell_type": "code",
   "execution_count": 124,
   "metadata": {},
   "outputs": [
    {
     "name": "stdout",
     "output_type": "stream",
     "text": [
      "   sqlite://\n",
      " * sqlite:///spacex.db\n",
      "Done.\n"
     ]
    },
    {
     "data": {
      "text/html": [
       "<table>\n",
       "    <tr>\n",
       "        <th>Outcome</th>\n",
       "        <th>Count</th>\n",
       "    </tr>\n",
       "    <tr>\n",
       "        <td>Failure</td>\n",
       "        <td>40</td>\n",
       "    </tr>\n",
       "    <tr>\n",
       "        <td>Success</td>\n",
       "        <td>61</td>\n",
       "    </tr>\n",
       "</table>"
      ],
      "text/plain": [
       "[('Failure', 40), ('Success', 61)]"
      ]
     },
     "execution_count": 124,
     "metadata": {},
     "output_type": "execute_result"
    }
   ],
   "source": [
    "%%sql\n",
    "SELECT Outcome, count(*) AS Count\n",
    "FROM (\n",
    "    SELECT (CASE\n",
    "                WHEN \"Landing _Outcome\" LIKE \"%Success%\" THEN \"Success\"\n",
    "                ELSE \"Failure\"\n",
    "            END) AS Outcome\n",
    "    FROM spacex\n",
    ")\n",
    "GROUP BY Outcome"
   ]
  },
  {
   "cell_type": "code",
   "execution_count": 130,
   "metadata": {},
   "outputs": [
    {
     "name": "stdout",
     "output_type": "stream",
     "text": [
      "   sqlite://\n",
      " * sqlite:///spacex.db\n",
      "Done.\n"
     ]
    },
    {
     "data": {
      "text/html": [
       "<table>\n",
       "    <tr>\n",
       "        <th>Outcome</th>\n",
       "        <th>Count</th>\n",
       "    </tr>\n",
       "    <tr>\n",
       "        <td>Failure</td>\n",
       "        <td>40</td>\n",
       "    </tr>\n",
       "    <tr>\n",
       "        <td>Success</td>\n",
       "        <td>61</td>\n",
       "    </tr>\n",
       "</table>"
      ],
      "text/plain": [
       "[('Failure', 40), ('Success', 61)]"
      ]
     },
     "execution_count": 130,
     "metadata": {},
     "output_type": "execute_result"
    }
   ],
   "source": [
    "%%sql\n",
    "SELECT (CASE\n",
    "                WHEN \"Landing _Outcome\" LIKE \"%Success%\" THEN \"Success\"\n",
    "                ELSE \"Failure\"\n",
    "            END) AS Outcome,\n",
    "        count(*) AS Count\n",
    "FROM spaceX\n",
    "GROUP BY (CASE\n",
    "                WHEN \"Landing _Outcome\" LIKE \"%Success%\" THEN \"Success\"\n",
    "                ELSE \"Failure\"\n",
    "            END)"
   ]
  },
  {
   "cell_type": "markdown",
   "metadata": {},
   "source": [
    "### Task 8\n",
    "\n",
    "##### List the   names of the booster_versions which have carried the maximum payload mass. Use a subquery\n"
   ]
  },
  {
   "cell_type": "code",
   "execution_count": 154,
   "metadata": {},
   "outputs": [
    {
     "name": "stdout",
     "output_type": "stream",
     "text": [
      "   sqlite://\n",
      " * sqlite:///spacex.db\n",
      "Done.\n"
     ]
    },
    {
     "data": {
      "text/html": [
       "<table>\n",
       "    <tr>\n",
       "        <th>Booster_Version</th>\n",
       "        <th>PAYLOAD_MASS__KG_</th>\n",
       "        <th>Orbit</th>\n",
       "        <th>Launch_Site</th>\n",
       "        <th>Outcome</th>\n",
       "        <th>Customer</th>\n",
       "        <th>Date</th>\n",
       "    </tr>\n",
       "    <tr>\n",
       "        <td>F9 B5 B1048.4</td>\n",
       "        <td>15600</td>\n",
       "        <td>LEO</td>\n",
       "        <td>CCAFS SLC-40</td>\n",
       "        <td>Success</td>\n",
       "        <td>SpaceX</td>\n",
       "        <td>11-11-2019</td>\n",
       "    </tr>\n",
       "    <tr>\n",
       "        <td>F9 B5 B1049.4</td>\n",
       "        <td>15600</td>\n",
       "        <td>LEO</td>\n",
       "        <td>CCAFS SLC-40</td>\n",
       "        <td>Success</td>\n",
       "        <td>SpaceX</td>\n",
       "        <td>07-01-2020</td>\n",
       "    </tr>\n",
       "    <tr>\n",
       "        <td>F9 B5 B1051.3</td>\n",
       "        <td>15600</td>\n",
       "        <td>LEO</td>\n",
       "        <td>CCAFS SLC-40</td>\n",
       "        <td>Success</td>\n",
       "        <td>SpaceX</td>\n",
       "        <td>29-01-2020</td>\n",
       "    </tr>\n",
       "    <tr>\n",
       "        <td>F9 B5 B1056.4</td>\n",
       "        <td>15600</td>\n",
       "        <td>LEO</td>\n",
       "        <td>CCAFS SLC-40</td>\n",
       "        <td>Failure</td>\n",
       "        <td>SpaceX</td>\n",
       "        <td>17-02-2020</td>\n",
       "    </tr>\n",
       "    <tr>\n",
       "        <td>F9 B5 B1048.5</td>\n",
       "        <td>15600</td>\n",
       "        <td>LEO</td>\n",
       "        <td>KSC LC-39A</td>\n",
       "        <td>Failure</td>\n",
       "        <td>SpaceX</td>\n",
       "        <td>18-03-2020</td>\n",
       "    </tr>\n",
       "    <tr>\n",
       "        <td>F9 B5 B1051.4</td>\n",
       "        <td>15600</td>\n",
       "        <td>LEO</td>\n",
       "        <td>KSC LC-39A</td>\n",
       "        <td>Success</td>\n",
       "        <td>SpaceX</td>\n",
       "        <td>22-04-2020</td>\n",
       "    </tr>\n",
       "    <tr>\n",
       "        <td>F9 B5 B1049.5</td>\n",
       "        <td>15600</td>\n",
       "        <td>LEO</td>\n",
       "        <td>CCAFS SLC-40</td>\n",
       "        <td>Success</td>\n",
       "        <td>SpaceX, Planet Labs</td>\n",
       "        <td>04-06-2020</td>\n",
       "    </tr>\n",
       "    <tr>\n",
       "        <td>F9 B5 B1060.2 </td>\n",
       "        <td>15600</td>\n",
       "        <td>LEO</td>\n",
       "        <td>KSC LC-39A</td>\n",
       "        <td>Success</td>\n",
       "        <td>SpaceX</td>\n",
       "        <td>03-09-2020</td>\n",
       "    </tr>\n",
       "    <tr>\n",
       "        <td>F9 B5 B1058.3 </td>\n",
       "        <td>15600</td>\n",
       "        <td>LEO</td>\n",
       "        <td>KSC LC-39A</td>\n",
       "        <td>Success</td>\n",
       "        <td>SpaceX</td>\n",
       "        <td>06-10-2020</td>\n",
       "    </tr>\n",
       "    <tr>\n",
       "        <td>F9 B5 B1051.6</td>\n",
       "        <td>15600</td>\n",
       "        <td>LEO</td>\n",
       "        <td>KSC LC-39A</td>\n",
       "        <td>Success</td>\n",
       "        <td>SpaceX</td>\n",
       "        <td>18-10-2020</td>\n",
       "    </tr>\n",
       "    <tr>\n",
       "        <td>F9 B5 B1060.3</td>\n",
       "        <td>15600</td>\n",
       "        <td>LEO</td>\n",
       "        <td>CCAFS SLC-40</td>\n",
       "        <td>Success</td>\n",
       "        <td>SpaceX</td>\n",
       "        <td>24-10-2020</td>\n",
       "    </tr>\n",
       "    <tr>\n",
       "        <td>F9 B5 B1049.7 </td>\n",
       "        <td>15600</td>\n",
       "        <td>LEO</td>\n",
       "        <td>CCAFS SLC-40</td>\n",
       "        <td>Success</td>\n",
       "        <td>SpaceX</td>\n",
       "        <td>25-11-2020</td>\n",
       "    </tr>\n",
       "</table>"
      ],
      "text/plain": [
       "[('F9 B5 B1048.4', 15600, 'LEO', 'CCAFS SLC-40', 'Success', 'SpaceX', '11-11-2019'),\n",
       " ('F9 B5 B1049.4', 15600, 'LEO', 'CCAFS SLC-40', 'Success', 'SpaceX', '07-01-2020'),\n",
       " ('F9 B5 B1051.3', 15600, 'LEO', 'CCAFS SLC-40', 'Success', 'SpaceX', '29-01-2020'),\n",
       " ('F9 B5 B1056.4', 15600, 'LEO', 'CCAFS SLC-40', 'Failure', 'SpaceX', '17-02-2020'),\n",
       " ('F9 B5 B1048.5', 15600, 'LEO', 'KSC LC-39A', 'Failure', 'SpaceX', '18-03-2020'),\n",
       " ('F9 B5 B1051.4', 15600, 'LEO', 'KSC LC-39A', 'Success', 'SpaceX', '22-04-2020'),\n",
       " ('F9 B5 B1049.5', 15600, 'LEO', 'CCAFS SLC-40', 'Success', 'SpaceX, Planet Labs', '04-06-2020'),\n",
       " ('F9 B5 B1060.2 ', 15600, 'LEO', 'KSC LC-39A', 'Success', 'SpaceX', '03-09-2020'),\n",
       " ('F9 B5 B1058.3 ', 15600, 'LEO', 'KSC LC-39A', 'Success', 'SpaceX', '06-10-2020'),\n",
       " ('F9 B5 B1051.6', 15600, 'LEO', 'KSC LC-39A', 'Success', 'SpaceX', '18-10-2020'),\n",
       " ('F9 B5 B1060.3', 15600, 'LEO', 'CCAFS SLC-40', 'Success', 'SpaceX', '24-10-2020'),\n",
       " ('F9 B5 B1049.7 ', 15600, 'LEO', 'CCAFS SLC-40', 'Success', 'SpaceX', '25-11-2020')]"
      ]
     },
     "execution_count": 154,
     "metadata": {},
     "output_type": "execute_result"
    }
   ],
   "source": [
    "%%sql\n",
    "SELECT DISTINCT Booster_Version, PAYLOAD_MASS__KG_, Orbit, Launch_Site, (CASE\n",
    "                WHEN \"Landing _Outcome\" LIKE \"%Success%\" THEN \"Success\"\n",
    "                ELSE \"Failure\"\n",
    "            END) As Outcome, Customer, Date\n",
    "FROM spacex\n",
    "WHERE PAYLOAD_MASS__KG_ = (SELECT max(PAYLOAD_MASS__KG_) from spacex)"
   ]
  },
  {
   "cell_type": "markdown",
   "metadata": {},
   "source": [
    "### Task 9\n",
    "\n",
    "##### List the failed landing_outcomes in drone ship, their booster versions, and launch site names for in year 2015\n"
   ]
  },
  {
   "cell_type": "code",
   "execution_count": 161,
   "metadata": {},
   "outputs": [
    {
     "name": "stdout",
     "output_type": "stream",
     "text": [
      "   sqlite://\n",
      " * sqlite:///spacex.db\n",
      "Done.\n"
     ]
    },
    {
     "data": {
      "text/html": [
       "<table>\n",
       "    <tr>\n",
       "        <th>Booster_Version</th>\n",
       "        <th>Launch_Site</th>\n",
       "        <th>Outcome</th>\n",
       "        <th>Date</th>\n",
       "    </tr>\n",
       "    <tr>\n",
       "        <td>F9 v1.1 B1012</td>\n",
       "        <td>CCAFS LC-40</td>\n",
       "        <td>Failure</td>\n",
       "        <td>10-01-2015</td>\n",
       "    </tr>\n",
       "    <tr>\n",
       "        <td>F9 v1.1 B1013</td>\n",
       "        <td>CCAFS LC-40</td>\n",
       "        <td>Failure</td>\n",
       "        <td>11-02-2015</td>\n",
       "    </tr>\n",
       "    <tr>\n",
       "        <td>F9 v1.1 B1014</td>\n",
       "        <td>CCAFS LC-40</td>\n",
       "        <td>Failure</td>\n",
       "        <td>02-03-2015</td>\n",
       "    </tr>\n",
       "    <tr>\n",
       "        <td>F9 v1.1 B1015</td>\n",
       "        <td>CCAFS LC-40</td>\n",
       "        <td>Failure</td>\n",
       "        <td>14-04-2015</td>\n",
       "    </tr>\n",
       "    <tr>\n",
       "        <td>F9 v1.1 B1016</td>\n",
       "        <td>CCAFS LC-40</td>\n",
       "        <td>Failure</td>\n",
       "        <td>27-04-2015</td>\n",
       "    </tr>\n",
       "    <tr>\n",
       "        <td>F9 v1.1 B1018</td>\n",
       "        <td>CCAFS LC-40</td>\n",
       "        <td>Failure</td>\n",
       "        <td>28-06-2015</td>\n",
       "    </tr>\n",
       "</table>"
      ],
      "text/plain": [
       "[('F9 v1.1 B1012', 'CCAFS LC-40', 'Failure', '10-01-2015'),\n",
       " ('F9 v1.1 B1013', 'CCAFS LC-40', 'Failure', '11-02-2015'),\n",
       " ('F9 v1.1 B1014', 'CCAFS LC-40', 'Failure', '02-03-2015'),\n",
       " ('F9 v1.1 B1015', 'CCAFS LC-40', 'Failure', '14-04-2015'),\n",
       " ('F9 v1.1 B1016', 'CCAFS LC-40', 'Failure', '27-04-2015'),\n",
       " ('F9 v1.1 B1018', 'CCAFS LC-40', 'Failure', '28-06-2015')]"
      ]
     },
     "execution_count": 161,
     "metadata": {},
     "output_type": "execute_result"
    }
   ],
   "source": [
    "%%sql\n",
    "SELECT Booster_Version, Launch_Site, (CASE\n",
    "                WHEN \"Landing _Outcome\" LIKE \"%Success%\" THEN \"Success\"\n",
    "                ELSE \"Failure\"\n",
    "            END) As Outcome, Date\n",
    "FROM spacex\n",
    "WHERE substr(Date, 7) = \"2015\" and \"Landing _Outcome\" NOT LIKE \"%Success%\""
   ]
  },
  {
   "cell_type": "markdown",
   "metadata": {},
   "source": [
    "### Task 10\n",
    "\n",
    "##### Rank the count of landing outcomes (such as Failure (drone ship) or Success (ground pad)) between the date 2010-06-04 and 2017-03-20, in descending order\n"
   ]
  },
  {
   "cell_type": "code",
   "execution_count": 162,
   "metadata": {},
   "outputs": [
    {
     "name": "stdout",
     "output_type": "stream",
     "text": [
      "   sqlite://\n",
      " * sqlite:///spacex.db\n",
      "Done.\n"
     ]
    },
    {
     "data": {
      "text/html": [
       "<table>\n",
       "    <tr>\n",
       "        <th>Outcome</th>\n",
       "        <th>COUNT</th>\n",
       "    </tr>\n",
       "    <tr>\n",
       "        <td>No attempt</td>\n",
       "        <td>10</td>\n",
       "    </tr>\n",
       "    <tr>\n",
       "        <td>Success (drone ship)</td>\n",
       "        <td>5</td>\n",
       "    </tr>\n",
       "    <tr>\n",
       "        <td>Failure (drone ship)</td>\n",
       "        <td>5</td>\n",
       "    </tr>\n",
       "    <tr>\n",
       "        <td>Success (ground pad)</td>\n",
       "        <td>3</td>\n",
       "    </tr>\n",
       "    <tr>\n",
       "        <td>Controlled (ocean)</td>\n",
       "        <td>3</td>\n",
       "    </tr>\n",
       "    <tr>\n",
       "        <td>Uncontrolled (ocean)</td>\n",
       "        <td>2</td>\n",
       "    </tr>\n",
       "    <tr>\n",
       "        <td>Failure (parachute)</td>\n",
       "        <td>2</td>\n",
       "    </tr>\n",
       "    <tr>\n",
       "        <td>Precluded (drone ship)</td>\n",
       "        <td>1</td>\n",
       "    </tr>\n",
       "</table>"
      ],
      "text/plain": [
       "[('No attempt', 10),\n",
       " ('Success (drone ship)', 5),\n",
       " ('Failure (drone ship)', 5),\n",
       " ('Success (ground pad)', 3),\n",
       " ('Controlled (ocean)', 3),\n",
       " ('Uncontrolled (ocean)', 2),\n",
       " ('Failure (parachute)', 2),\n",
       " ('Precluded (drone ship)', 1)]"
      ]
     },
     "execution_count": 162,
     "metadata": {},
     "output_type": "execute_result"
    }
   ],
   "source": [
    "%%sql\n",
    "SELECT \"Landing _Outcome\" Outcome, COUNT(*) as COUNT\n",
    "FROM spacex\n",
    "WHERE cast(substr(Date,7)||substr(Date,4,2)||substr(Date,1,2) AS INT) BETWEEN 20100604 and 20170320\n",
    "GROUP BY \"Landing _Outcome\"\n",
    "Order By Count(*) desc"
   ]
  },
  {
   "cell_type": "markdown",
   "metadata": {},
   "source": [
    "### Reference Links\n",
    "\n",
    "*   <a href =\"https://cf-courses-data.s3.us.cloud-object-storage.appdomain.cloud/IBMDeveloperSkillsNetwork-DB0201EN-SkillsNetwork/labs/Labs_Coursera_V5/labs/Lab%20-%20String%20Patterns%20-%20Sorting%20-%20Grouping/instructional-labs.md.html?utm_medium=Exinfluencer&utm_source=Exinfluencer&utm_content=000026UJ&utm_term=10006555&utm_id=NA-SkillsNetwork-Channel-SkillsNetworkCoursesIBMDS0321ENSkillsNetwork26802033-2022-01-01&origin=www.coursera.org\">Hands-on Lab : String Patterns, Sorting and Grouping</a>\n",
    "\n",
    "*   <a  href=\"https://cf-courses-data.s3.us.cloud-object-storage.appdomain.cloud/IBMDeveloperSkillsNetwork-DB0201EN-SkillsNetwork/labs/Labs_Coursera_V5/labs/Lab%20-%20Built-in%20functions%20/Hands-on_Lab__Built-in_Functions.md.html?utm_medium=Exinfluencer&utm_source=Exinfluencer&utm_content=000026UJ&utm_term=10006555&utm_id=NA-SkillsNetwork-Channel-SkillsNetworkCoursesIBMDS0321ENSkillsNetwork26802033-2022-01-01&origin=www.coursera.org\">Hands-on Lab: Built-in functions</a>\n",
    "\n",
    "*   <a  href=\"https://cf-courses-data.s3.us.cloud-object-storage.appdomain.cloud/IBMDeveloperSkillsNetwork-DB0201EN-SkillsNetwork/labs/Labs_Coursera_V5/labs/Lab%20-%20Sub-queries%20and%20Nested%20SELECTs%20/instructional-labs.md.html?utm_medium=Exinfluencer&utm_source=Exinfluencer&utm_content=000026UJ&utm_term=10006555&utm_id=NA-SkillsNetwork-Channel-SkillsNetworkCoursesIBMDS0321ENSkillsNetwork26802033-2022-01-01&origin=www.coursera.org\">Hands-on Lab : Sub-queries and Nested SELECT Statements</a>\n",
    "\n",
    "*   <a href=\"https://cf-courses-data.s3.us.cloud-object-storage.appdomain.cloud/IBMDeveloperSkillsNetwork-DB0201EN-SkillsNetwork/labs/Module%205/DB0201EN-Week3-1-3-SQLmagic.ipynb?utm_medium=Exinfluencer&utm_source=Exinfluencer&utm_content=000026UJ&utm_term=10006555&utm_id=NA-SkillsNetwork-Channel-SkillsNetworkCoursesIBMDS0321ENSkillsNetwork26802033-2022-01-01\">Hands-on Tutorial: Accessing Databases with SQL magic</a>\n",
    "\n",
    "*   <a href= \"https://cf-courses-data.s3.us.cloud-object-storage.appdomain.cloud/IBMDeveloperSkillsNetwork-DB0201EN-SkillsNetwork/labs/Module%205/DB0201EN-Week3-1-4-Analyzing.ipynb?utm_medium=Exinfluencer&utm_source=Exinfluencer&utm_content=000026UJ&utm_term=10006555&utm_id=NA-SkillsNetwork-Channel-SkillsNetworkCoursesIBMDS0321ENSkillsNetwork26802033-2022-01-01\">Hands-on Lab: Analyzing a real World Data Set</a>\n"
   ]
  },
  {
   "cell_type": "markdown",
   "metadata": {},
   "source": [
    "## Author(s)\n",
    "\n",
    "<h4> Lakshmi Holla </h4>\n"
   ]
  },
  {
   "cell_type": "markdown",
   "metadata": {},
   "source": [
    "## Other Contributors\n",
    "\n",
    "<h4> Rav Ahuja </h4>\n"
   ]
  },
  {
   "cell_type": "markdown",
   "metadata": {},
   "source": [
    "## Change log\n",
    "\n",
    "| Date       | Version | Changed by    | Change Description        |\n",
    "| ---------- | ------- | ------------- | ------------------------- |\n",
    "| 2021-10-12 | 0.4     | Lakshmi Holla | Changed markdown          |\n",
    "| 2021-08-24 | 0.3     | Lakshmi Holla | Added library update      |\n",
    "| 2021-07-09 | 0.2     | Lakshmi Holla | Changes made in magic sql |\n",
    "| 2021-05-20 | 0.1     | Lakshmi Holla | Created Initial Version   |\n"
   ]
  },
  {
   "cell_type": "markdown",
   "metadata": {},
   "source": [
    "## <h3 align=\"center\"> © IBM Corporation 2021. All rights reserved. <h3/>\n"
   ]
  }
 ],
 "metadata": {
  "kernelspec": {
   "display_name": "Python 3 (ipykernel)",
   "language": "python",
   "name": "python3"
  },
  "language_info": {
   "codemirror_mode": {
    "name": "ipython",
    "version": 3
   },
   "file_extension": ".py",
   "mimetype": "text/x-python",
   "name": "python",
   "nbconvert_exporter": "python",
   "pygments_lexer": "ipython3",
   "version": "3.10.9"
  }
 },
 "nbformat": 4,
 "nbformat_minor": 4
}
